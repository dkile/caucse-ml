{
  "nbformat": 4,
  "nbformat_minor": 0,
  "metadata": {
    "colab": {
      "name": "assignment_02.ipynb",
      "provenance": [],
      "collapsed_sections": []
    },
    "kernelspec": {
      "name": "python3",
      "display_name": "Python 3.8.8 64-bit ('base': conda)"
    },
    "language_info": {
      "name": "python",
      "version": "3.8.8",
      "mimetype": "text/x-python",
      "codemirror_mode": {
        "name": "ipython",
        "version": 3
      },
      "pygments_lexer": "ipython3",
      "nbconvert_exporter": "python",
      "file_extension": ".py"
    },
    "interpreter": {
      "hash": "dca0ade3e726a953b501b15e8e990130d2b7799f14cfd9f4271676035ebe5511"
    }
  },
  "cells": [
    {
      "cell_type": "markdown",
      "metadata": {
        "id": "K29I-OwCEYzW",
        "outputId": "db8b297c-a4b8-457a-b43f-7570135306c7"
      },
      "source": [
        "# Logistic regression for binary classification"
      ]
    },
    {
      "cell_type": "markdown",
      "metadata": {
        "id": "ejY85ymuyHzH"
      },
      "source": [
        "## import libraries"
      ]
    },
    {
      "cell_type": "code",
      "metadata": {
        "id": "ov4GrRP9yHzH"
      },
      "source": [
        "import numpy as np\n",
        "import matplotlib.image as img\n",
        "import matplotlib.pyplot as plt\n",
        "import matplotlib.colors as colors\n",
        "import os"
      ],
      "execution_count": 24,
      "outputs": []
    },
    {
      "cell_type": "markdown",
      "metadata": {
        "id": "4q542eqhyHzI"
      },
      "source": [
        "## load data"
      ]
    },
    {
      "cell_type": "code",
      "metadata": {
        "colab": {
          "base_uri": "https://localhost:8080/"
        },
        "id": "oG3oav7QyHzI",
        "outputId": "8b88865c-110c-48b1-e6a6-c3600341badb"
      },
      "source": [
        "directory_data  = './data/'\n",
        "filename_data   = 'assignment_02_data.npz'\n",
        "data            = np.load(os.path.join(directory_data, filename_data))\n",
        "\n",
        "x = data['x']\n",
        "y = data['y']\n",
        "\n",
        "print('size of x (image) :', x.shape)\n",
        "print('size of y (label) :', y.shape)\n",
        "\n",
        "print('number of image :', x.shape[0])\n",
        "print('height of image :', x.shape[1])\n",
        "print('width of image :', x.shape[2])\n",
        "im_0    = x[0,:,:]\n",
        "im_1    = x[1,:,:]\n",
        "label_0 = y[0]\n",
        "label_1 = y[1]\n",
        "\n"
      ],
      "execution_count": 25,
      "outputs": [
        {
          "output_type": "stream",
          "name": "stdout",
          "text": [
            "size of x (image) : (2, 28, 28)\n",
            "size of y (label) : (2,)\n",
            "number of image : 2\n",
            "height of image : 28\n",
            "width of image : 28\n"
          ]
        }
      ]
    },
    {
      "cell_type": "markdown",
      "metadata": {
        "id": "Vh7TZDKjyHzI"
      },
      "source": [
        "## plot data"
      ]
    },
    {
      "cell_type": "code",
      "metadata": {
        "id": "ZRfIUEz_yHzJ"
      },
      "source": [
        "def plot_data2(title1, data1, title2, data2):\n",
        "\n",
        "    fig = plt.figure(figsize=(8,4))\n",
        "\n",
        "    rows = 1\n",
        "    cols = 2\n",
        "\n",
        "    ax1 = fig.add_subplot(rows, cols, 1)\n",
        "    ax1.set_title(title1)\n",
        "    ax1.imshow(data1, cmap='gray', vmin=0, vmax=1)\n",
        "\n",
        "    ax2 = fig.add_subplot(rows, cols, 2)\n",
        "    ax2.set_title(title2)\n",
        "    ax2.imshow(data2, cmap='gray', vmin=0, vmax=1)\n",
        "\n",
        "    plt.tight_layout()\n",
        "    plt.show()"
      ],
      "execution_count": 26,
      "outputs": []
    },
    {
      "cell_type": "code",
      "metadata": {
        "colab": {
          "base_uri": "https://localhost:8080/",
          "height": 312
        },
        "id": "yvlmjuVKyHzJ",
        "outputId": "04d6b3e1-478d-4a5f-d36c-e023f1fbf114"
      },
      "source": [
        "plot_data2('label: 0', im_0, 'label: 1', im_1)"
      ],
      "execution_count": 27,
      "outputs": [
        {
          "output_type": "display_data",
          "data": {
            "image/png": "[encoded data removed]",
            "text/plain": [
              "<Figure size 576x288 with 2 Axes>"
            ]
          },
          "metadata": {
            "needs_background": "light"
          }
        }
      ]
    },
    {
      "cell_type": "markdown",
      "metadata": {
        "id": "Nim9FzdjyHzK"
      },
      "source": [
        "## convert gray scale image to color"
      ]
    },
    {
      "cell_type": "code",
      "metadata": {
        "colab": {
          "base_uri": "https://localhost:8080/"
        },
        "id": "gV2VN7h1yHzK",
        "outputId": "51254a06-759e-4055-eee7-ba0e4e4f9b9d"
      },
      "source": [
        "im_0_red    = np.zeros((im_0.shape[0], im_0.shape[1], 3))\n",
        "im_0_green  = np.zeros((im_0.shape[0], im_0.shape[1], 3))\n",
        "im_0_blue   = np.zeros((im_0.shape[0], im_0.shape[1], 3))\n",
        "\n",
        "im_1_red    = np.zeros((im_1.shape[0], im_1.shape[1], 3))\n",
        "im_1_green  = np.zeros((im_1.shape[0], im_1.shape[1], 3))\n",
        "im_1_blue   = np.zeros((im_1.shape[0], im_1.shape[1], 3))\n",
        "\n",
        "im_0_red[:,:,0]     = im_0\n",
        "im_0_green[:,:,1]   = im_0\n",
        "im_0_blue[:,:,2]    = im_0\n",
        "\n",
        "im_1_red[:,:,0]     = im_1\n",
        "im_1_green[:,:,1]   = im_1\n",
        "im_1_blue[:,:,2]    = im_1\n",
        "\n",
        "print(im_0_red.shape)\n",
        "print(im_0_green.shape)\n",
        "print(im_0_blue.shape)\n",
        "\n",
        "print(im_1_red.shape)\n",
        "print(im_1_green.shape)\n",
        "print(im_1_blue.shape)\n"
      ],
      "execution_count": 28,
      "outputs": [
        {
          "output_type": "stream",
          "name": "stdout",
          "text": [
            "(28, 28, 3)\n",
            "(28, 28, 3)\n",
            "(28, 28, 3)\n",
            "(28, 28, 3)\n",
            "(28, 28, 3)\n",
            "(28, 28, 3)\n"
          ]
        }
      ]
    },
    {
      "cell_type": "markdown",
      "metadata": {
        "id": "ahVmSlh2yHzK"
      },
      "source": [
        "## plot color data"
      ]
    },
    {
      "cell_type": "code",
      "metadata": {
        "id": "VSN2x-p8yHzK"
      },
      "source": [
        "def plot_data_color3(title1, data1, title2, data2, title3, data3):\n",
        "\n",
        "    fig, axes = plt.subplots(1, 3, constrained_layout=True, figsize=(12, 4))\n",
        "\n",
        "    axes[0].imshow(data1, vmin=0, vmax=1)\n",
        "    axes[0].set(title=title1)\n",
        "    \n",
        "    axes[1].imshow(data2, vmin=0, vmax=1)\n",
        "    axes[1].set(title=title2)\n",
        "    \n",
        "    axes[2].imshow(data3, vmin=0, vmax=1)\n",
        "    axes[2].set(title=title3)\n",
        "\n",
        "    plt.show()\n"
      ],
      "execution_count": 29,
      "outputs": []
    },
    {
      "cell_type": "code",
      "metadata": {
        "colab": {
          "base_uri": "https://localhost:8080/",
          "height": 322
        },
        "id": "a9wfPwOuyHzK",
        "outputId": "98d7df97-b235-44bc-f470-c9e8f21e9cc3"
      },
      "source": [
        "plot_data_color3('im 0: red', im_0_red, 'im 0: green', im_0_green, 'im 0: blue', im_0_blue)"
      ],
      "execution_count": 30,
      "outputs": [
        {
          "output_type": "display_data",
          "data": {
            "image/png": "[encoded data removed]",
            "text/plain": [
              "<Figure size 864x288 with 3 Axes>"
            ]
          },
          "metadata": {
            "needs_background": "light"
          }
        }
      ]
    },
    {
      "cell_type": "code",
      "metadata": {
        "colab": {
          "base_uri": "https://localhost:8080/",
          "height": 322
        },
        "id": "jABc2ofXyHzL",
        "outputId": "4bf5eb7b-91af-4bc0-b28c-0753379f9243"
      },
      "source": [
        "plot_data_color3('im 1: red', im_1_red, 'im 1: green', im_1_green, 'im 1: blue', im_1_blue)"
      ],
      "execution_count": 31,
      "outputs": [
        {
          "output_type": "display_data",
          "data": {
            "image/png": "[encoded data removed]",
            "text/plain": [
              "<Figure size 864x288 with 3 Axes>"
            ]
          },
          "metadata": {
            "needs_background": "light"
          }
        }
      ]
    },
    {
      "cell_type": "markdown",
      "metadata": {
        "id": "bpaVoi3xyHzL"
      },
      "source": [
        "## linear layer"
      ]
    },
    {
      "cell_type": "code",
      "metadata": {
        "id": "B0wRojMpyHzL"
      },
      "source": [
        "def layer_linear(input, weight):\n",
        "    \n",
        "    # fill in the function body\n",
        "    output = np.dot(input, weight.T)\n",
        "    # -------------------------\n",
        "\n",
        "    return output"
      ],
      "execution_count": 34,
      "outputs": []
    },
    {
      "cell_type": "markdown",
      "metadata": {
        "id": "DJ3qH4Z9yHzL"
      },
      "source": [
        "## [git commit # 01] % git commit -a -m \"complete the function for linear layer\""
      ]
    },
    {
      "cell_type": "markdown",
      "metadata": {
        "id": "ypBpeQdlyHzL"
      },
      "source": [
        "## activation function : Sigmoid"
      ]
    },
    {
      "cell_type": "code",
      "metadata": {
        "id": "9r5V7yLcyHzL"
      },
      "source": [
        "def activation_sigmoid(input):\n",
        "    \n",
        "    # fill in the function body\n",
        "    output = 1 / (1 + np.exp(-input))\n",
        "    # -------------------------\n",
        "\n",
        "    return output"
      ],
      "execution_count": 35,
      "outputs": []
    },
    {
      "cell_type": "markdown",
      "metadata": {
        "id": "EDSn2MF4yHzM"
      },
      "source": [
        "## [git commit # 02] % git commit -a -m \"complete the function for the sigmoid activation\""
      ]
    },
    {
      "cell_type": "markdown",
      "metadata": {
        "id": "dPYD09XUyHzM"
      },
      "source": [
        "## forward propagation "
      ]
    },
    {
      "cell_type": "code",
      "metadata": {
        "id": "twOPJE-myHzM"
      },
      "source": [
        "def propagation_forward(input, weight):\n",
        "    \n",
        "    # fill in the function body\n",
        "    output      = layer_linear(input, weight)\n",
        "    prediction  = activation_sigmoid(output)\n",
        "    # -------------------------\n",
        "\n",
        "    return prediction"
      ],
      "execution_count": 36,
      "outputs": []
    },
    {
      "cell_type": "markdown",
      "metadata": {
        "id": "PDB8ZrEQyHzM"
      },
      "source": [
        "## [git commit # 03] % git commit -a -m \"complete the function for the forward propagation\""
      ]
    },
    {
      "cell_type": "markdown",
      "metadata": {
        "id": "ts5WctFgyHzM"
      },
      "source": [
        "## compute loss function"
      ]
    },
    {
      "cell_type": "code",
      "metadata": {
        "id": "3KYlTyPRyHzM"
      },
      "source": [
        "def compute_loss(input, weight, label):\n",
        "\n",
        "    # fill in the function body\n",
        "    prediction      = propagation_forward(input, weight)\n",
        "    loss            = -(np.dot(label, np.log(prediction).T) + np.dot(1 - label, np.log(1 - prediction).T))\n",
        "    loss_average    = loss / 2\n",
        "    # -------------------------\n",
        "\n",
        "    return loss_average"
      ],
      "execution_count": 37,
      "outputs": []
    },
    {
      "cell_type": "markdown",
      "metadata": {
        "id": "UWGTnhcOyHzM"
      },
      "source": [
        "## [git commit # 04] % git commit -a -m \"complete the function for the loss\""
      ]
    },
    {
      "cell_type": "markdown",
      "metadata": {
        "id": "beajdgUIyHzM"
      },
      "source": [
        "## compute gradient"
      ]
    },
    {
      "cell_type": "code",
      "metadata": {
        "id": "mfg2UUYryHzM"
      },
      "source": [
        "def compute_gradient(input, weight, label):\n",
        "\n",
        "    # fill in the function body\n",
        "    prediction  = propagation_forward(input, weight)\n",
        "    residual    = compute_loss(input, weight, label)\n",
        "    gradient    = np.dot(prediction - label, input)\n",
        "    # -------------------------\n",
        "\n",
        "    return gradient"
      ],
      "execution_count": 44,
      "outputs": []
    },
    {
      "cell_type": "markdown",
      "metadata": {
        "id": "qdMVZ3GEyHzN"
      },
      "source": [
        "## [git commit # 05] % git commit -a -m \"complete the function for the computation of gradient\""
      ]
    },
    {
      "cell_type": "markdown",
      "metadata": {
        "id": "1Yi2ElHryHzN"
      },
      "source": [
        "## initialize weight"
      ]
    },
    {
      "cell_type": "code",
      "metadata": {
        "id": "9EpFlNUryHzN"
      },
      "source": [
        "weight  = np.ones(np.prod(im_0.shape))\n",
        "weight  = weight * 0.001\n",
        "\n",
        "vector_0    = np.matrix.flatten(im_0)\n",
        "vector_1    = np.matrix.flatten(im_1)\n",
        "\n",
        "input   = [vector_0, vector_1]\n",
        "label   = y"
      ],
      "execution_count": 32,
      "outputs": []
    },
    {
      "cell_type": "markdown",
      "metadata": {
        "id": "bWj_75KxyHzN"
      },
      "source": [
        "## hyper-parameters"
      ]
    },
    {
      "cell_type": "code",
      "metadata": {
        "id": "2LGh029VyHzN"
      },
      "source": [
        "number_iteration    = 1000\n",
        "learning_rate       = 0.01"
      ],
      "execution_count": 33,
      "outputs": []
    },
    {
      "cell_type": "markdown",
      "metadata": {
        "id": "nlfxXgH8yHzN"
      },
      "source": [
        "## gradient descent"
      ]
    },
    {
      "cell_type": "code",
      "metadata": {
        "id": "Q61h3KCVyHzN"
      },
      "source": [
        "loss_iteration      = np.zeros(number_iteration)\n",
        "pred_0_iteration    = np.zeros(number_iteration) \n",
        "pred_1_iteration    = np.zeros(number_iteration) \n",
        "\n",
        "for i in range(number_iteration):\n",
        "\n",
        "    # fill in the function body\n",
        "    weight  = compute_gradient(input, weight, label)\n",
        "    loss    = compute_loss(input, weight, label)\n",
        "    pred    = propagation_forward(input, weight)\n",
        "    # -------------------------\n",
        "\n",
        "    loss_iteration[i]   = loss\n",
        "    pred_0_iteration[i] = pred[0]\n",
        "    pred_1_iteration[i] = pred[1]\n",
        "    \n",
        "    # print('iteration = %4d, loss = %5.5f' % (i, loss))"
      ],
      "execution_count": 39,
      "outputs": []
    },
    {
      "cell_type": "markdown",
      "metadata": {
        "id": "pzfuBfcGyHzN"
      },
      "source": [
        "## [git commit # 06] % git commit -a -m \"complete the function for the gradient descent\""
      ]
    },
    {
      "cell_type": "markdown",
      "metadata": {
        "id": "dxtnsR35yHzO"
      },
      "source": [
        "## plot learning curve"
      ]
    },
    {
      "cell_type": "code",
      "metadata": {
        "id": "M6YL5QceyHzO"
      },
      "source": [
        "def plot_curve(title, data):\n",
        "\n",
        "    plt.figure(figsize=(8, 6))\n",
        "    plt.title(title)\n",
        "\n",
        "    plt.plot(data, '-', color='red')\n",
        "    plt.xlabel('iteration')\n",
        "    plt.ylabel('loss')\n",
        "\n",
        "    plt.tight_layout()\n",
        "    plt.show()"
      ],
      "execution_count": 40,
      "outputs": []
    },
    {
      "cell_type": "code",
      "metadata": {
        "colab": {
          "base_uri": "https://localhost:8080/",
          "height": 441
        },
        "id": "AFVHQ08QyHzO",
        "outputId": "b7138e01-1aaa-4507-cca9-5921d0377a90"
      },
      "source": [
        "plot_curve('loss', loss_iteration)"
      ],
      "execution_count": 41,
      "outputs": [
        {
          "output_type": "display_data",
          "data": {
            "image/png": "[encoded data removed]",
            "text/plain": [
              "<Figure size 576x432 with 1 Axes>"
            ]
          },
          "metadata": {
            "needs_background": "light"
          }
        }
      ]
    },
    {
      "cell_type": "markdown",
      "metadata": {
        "id": "CX2kihNeyHzO"
      },
      "source": [
        "## plot prediction values"
      ]
    },
    {
      "cell_type": "code",
      "metadata": {
        "id": "pO7KFaeqyHzO"
      },
      "source": [
        "def plot_curve2(title, data1, label1, data2, label2):\n",
        "\n",
        "\n",
        "    fig = plt.figure(figsize=(8,6))\n",
        "    plt.title(title)\n",
        "\n",
        "    plt.plot(data1, '-', color='blue', label=label1)\n",
        "    plt.plot(data2, '-', color='red', label=label2)\n",
        "    plt.legend()\n",
        "    plt.tight_layout()\n",
        "\n",
        "    plt.show()"
      ],
      "execution_count": 42,
      "outputs": []
    },
    {
      "cell_type": "code",
      "metadata": {
        "colab": {
          "base_uri": "https://localhost:8080/",
          "height": 441
        },
        "id": "VFNfvDu6yHzO",
        "outputId": "b87c5ef6-0de8-428b-b607-46e5b09d7cd3"
      },
      "source": [
        "plot_curve2('prediction', pred_0_iteration, 'im 0', pred_1_iteration, 'im 1')"
      ],
      "execution_count": 43,
      "outputs": [
        {
          "output_type": "display_data",
          "data": {
            "image/png": "[encoded data removed]",
            "text/plain": [
              "<Figure size 576x432 with 1 Axes>"
            ]
          },
          "metadata": {
            "needs_background": "light"
          }
        }
      ]
    },
    {
      "cell_type": "markdown",
      "metadata": {
        "id": "kENbwNIJyHzO"
      },
      "source": [
        "## given iterations at which the values are presented"
      ]
    },
    {
      "cell_type": "code",
      "metadata": {
        "id": "HxlE13FzyHzO"
      },
      "source": [
        "iter0   = 0\n",
        "iter1   = 100\n",
        "iter2   = 200\n",
        "iter3   = 300\n",
        "iter4   = 400\n",
        "iter5   = 500\n",
        "iter6   = 600\n",
        "iter7   = 700\n",
        "iter8   = 800\n",
        "iter9   = 900\n"
      ],
      "execution_count": null,
      "outputs": []
    },
    {
      "cell_type": "markdown",
      "metadata": {
        "id": "KO-ZcBiWyHzO"
      },
      "source": [
        "## loss values"
      ]
    },
    {
      "cell_type": "code",
      "metadata": {
        "id": "FKapS5zayHzO",
        "outputId": "1d318205-5a87-44d1-8eac-dae189505b9c"
      },
      "source": [
        "print('iteration = %4d, loss = %12.10f' % (iter0, loss_iteration[iter0]))\n",
        "print('iteration = %4d, loss = %12.10f' % (iter1, loss_iteration[iter1]))\n",
        "print('iteration = %4d, loss = %12.10f' % (iter2, loss_iteration[iter2]))\n",
        "print('iteration = %4d, loss = %12.10f' % (iter3, loss_iteration[iter3]))\n",
        "print('iteration = %4d, loss = %12.10f' % (iter4, loss_iteration[iter4]))\n",
        "print('iteration = %4d, loss = %12.10f' % (iter5, loss_iteration[iter5]))\n",
        "print('iteration = %4d, loss = %12.10f' % (iter6, loss_iteration[iter6]))\n",
        "print('iteration = %4d, loss = %12.10f' % (iter7, loss_iteration[iter7]))\n",
        "print('iteration = %4d, loss = %12.10f' % (iter8, loss_iteration[iter8]))\n",
        "print('iteration = %4d, loss = %12.10f' % (iter9, loss_iteration[iter9]))"
      ],
      "execution_count": null,
      "outputs": [
        {
          "output_type": "stream",
          "name": "stdout",
          "text": [
            "iteration =    0, loss = 0.0000000000\n",
            "iteration =  100, loss = 0.0000000000\n",
            "iteration =  200, loss = 0.0000000000\n",
            "iteration =  300, loss = 0.0000000000\n",
            "iteration =  400, loss = 0.0000000000\n",
            "iteration =  500, loss = 0.0000000000\n",
            "iteration =  600, loss = 0.0000000000\n",
            "iteration =  700, loss = 0.0000000000\n",
            "iteration =  800, loss = 0.0000000000\n",
            "iteration =  900, loss = 0.0000000000\n"
          ]
        }
      ]
    },
    {
      "cell_type": "markdown",
      "metadata": {
        "id": "6dBDbc0DyHzP"
      },
      "source": [
        "## prediction values for im_0"
      ]
    },
    {
      "cell_type": "code",
      "metadata": {
        "id": "BMxyNisyyHzP",
        "outputId": "3836be8c-4fe6-4bf7-adba-01c9d9cc953c"
      },
      "source": [
        "print('iteration = %4d, pred im0 = %12.10f' % (iter0, pred_0_iteration[iter0]))\n",
        "print('iteration = %4d, pred im0 = %12.10f' % (iter1, pred_0_iteration[iter1]))\n",
        "print('iteration = %4d, pred im0 = %12.10f' % (iter2, pred_0_iteration[iter2]))\n",
        "print('iteration = %4d, pred im0 = %12.10f' % (iter3, pred_0_iteration[iter3]))\n",
        "print('iteration = %4d, pred im0 = %12.10f' % (iter4, pred_0_iteration[iter4]))\n",
        "print('iteration = %4d, pred im0 = %12.10f' % (iter5, pred_0_iteration[iter5]))\n",
        "print('iteration = %4d, pred im0 = %12.10f' % (iter6, pred_0_iteration[iter6]))\n",
        "print('iteration = %4d, pred im0 = %12.10f' % (iter7, pred_0_iteration[iter7]))\n",
        "print('iteration = %4d, pred im0 = %12.10f' % (iter8, pred_0_iteration[iter8]))\n",
        "print('iteration = %4d, pred im0 = %12.10f' % (iter9, pred_0_iteration[iter9]))"
      ],
      "execution_count": null,
      "outputs": [
        {
          "output_type": "stream",
          "name": "stdout",
          "text": [
            "iteration =    0, pred im0 = 0.0000000000\n",
            "iteration =  100, pred im0 = 0.0000000000\n",
            "iteration =  200, pred im0 = 0.0000000000\n",
            "iteration =  300, pred im0 = 0.0000000000\n",
            "iteration =  400, pred im0 = 0.0000000000\n",
            "iteration =  500, pred im0 = 0.0000000000\n",
            "iteration =  600, pred im0 = 0.0000000000\n",
            "iteration =  700, pred im0 = 0.0000000000\n",
            "iteration =  800, pred im0 = 0.0000000000\n",
            "iteration =  900, pred im0 = 0.0000000000\n"
          ]
        }
      ]
    },
    {
      "cell_type": "markdown",
      "metadata": {
        "id": "HqugAJhayHzP"
      },
      "source": [
        "## prediction values for im_1"
      ]
    },
    {
      "cell_type": "code",
      "metadata": {
        "id": "XM2mT-qnyHzP",
        "outputId": "08d196b5-387b-4241-be61-38201ff38195"
      },
      "source": [
        "print('iteration = %4d, pred im1 = %12.10f' % (iter0, pred_1_iteration[iter0]))\n",
        "print('iteration = %4d, pred im1 = %12.10f' % (iter1, pred_1_iteration[iter1]))\n",
        "print('iteration = %4d, pred im1 = %12.10f' % (iter2, pred_1_iteration[iter2]))\n",
        "print('iteration = %4d, pred im1 = %12.10f' % (iter3, pred_1_iteration[iter3]))\n",
        "print('iteration = %4d, pred im1 = %12.10f' % (iter4, pred_1_iteration[iter4]))\n",
        "print('iteration = %4d, pred im1 = %12.10f' % (iter5, pred_1_iteration[iter5]))\n",
        "print('iteration = %4d, pred im1 = %12.10f' % (iter6, pred_1_iteration[iter6]))\n",
        "print('iteration = %4d, pred im1 = %12.10f' % (iter7, pred_1_iteration[iter7]))\n",
        "print('iteration = %4d, pred im1 = %12.10f' % (iter8, pred_1_iteration[iter8]))\n",
        "print('iteration = %4d, pred im1 = %12.10f' % (iter9, pred_1_iteration[iter9]))"
      ],
      "execution_count": null,
      "outputs": [
        {
          "output_type": "stream",
          "name": "stdout",
          "text": [
            "iteration =    0, pred im1 = 0.0000000000\n",
            "iteration =  100, pred im1 = 0.0000000000\n",
            "iteration =  200, pred im1 = 0.0000000000\n",
            "iteration =  300, pred im1 = 0.0000000000\n",
            "iteration =  400, pred im1 = 0.0000000000\n",
            "iteration =  500, pred im1 = 0.0000000000\n",
            "iteration =  600, pred im1 = 0.0000000000\n",
            "iteration =  700, pred im1 = 0.0000000000\n",
            "iteration =  800, pred im1 = 0.0000000000\n",
            "iteration =  900, pred im1 = 0.0000000000\n"
          ]
        }
      ]
    },
    {
      "cell_type": "code",
      "metadata": {
        "id": "hvSkb-w6yHzP"
      },
      "source": [
        "def function_result_01(*args):\n",
        "\n",
        "    pass"
      ],
      "execution_count": null,
      "outputs": []
    },
    {
      "cell_type": "markdown",
      "metadata": {
        "id": "RpXfpGBpyHzP"
      },
      "source": [
        "## [git commit # 07] % git commit -a -m \"complete the function for the function result 01\""
      ]
    },
    {
      "cell_type": "code",
      "metadata": {
        "id": "N4BKuevwyHzP"
      },
      "source": [
        "def function_result_02(*args):\n",
        "\n",
        "    pass"
      ],
      "execution_count": null,
      "outputs": []
    },
    {
      "cell_type": "markdown",
      "metadata": {
        "id": "iZqRh9m0yHzP"
      },
      "source": [
        "## [git commit # 08] % git commit -a -m \"complete the function for the function result 02\""
      ]
    },
    {
      "cell_type": "code",
      "metadata": {
        "id": "PQrd_FblyHzQ"
      },
      "source": [
        "def function_result_03(*args):\n",
        "    \n",
        "    pass"
      ],
      "execution_count": null,
      "outputs": []
    },
    {
      "cell_type": "markdown",
      "metadata": {
        "id": "ZJ2wSLLQyHzQ"
      },
      "source": [
        "## [git commit # 09] % git commit -a -m \"complete the function for the function result 03\""
      ]
    },
    {
      "cell_type": "code",
      "metadata": {
        "id": "JunQRHokyHzQ"
      },
      "source": [
        "def function_result_04(*args):\n",
        "\n",
        "    pass"
      ],
      "execution_count": null,
      "outputs": []
    },
    {
      "cell_type": "markdown",
      "metadata": {
        "id": "qKHunv-3yHzQ"
      },
      "source": [
        "## [git commit # 10] % git commit -a -m \"complete the function for the function result 04\""
      ]
    },
    {
      "cell_type": "code",
      "metadata": {
        "id": "R_jYGM6IyHzQ"
      },
      "source": [
        "def function_result_05(*args):\n",
        "\n",
        "    pass"
      ],
      "execution_count": null,
      "outputs": []
    },
    {
      "cell_type": "markdown",
      "metadata": {
        "id": "30R3kEnNyHzQ"
      },
      "source": [
        "## [git commit # 11] % git commit -a -m \"complete the function for the function result 05\""
      ]
    },
    {
      "cell_type": "code",
      "metadata": {
        "id": "SQnA3nlZyHzQ"
      },
      "source": [
        "def function_result_06(*args):\n",
        "\n",
        "    pass"
      ],
      "execution_count": null,
      "outputs": []
    },
    {
      "cell_type": "markdown",
      "metadata": {
        "id": "Hv90ulEVyHzQ"
      },
      "source": [
        "## [git commit # 12] % git commit -a -m \"complete the function for the function result 06\""
      ]
    },
    {
      "cell_type": "code",
      "metadata": {
        "id": "LWzcVADeyHzQ"
      },
      "source": [
        "def function_result_07(*args):\n",
        "\n",
        "    pass"
      ],
      "execution_count": null,
      "outputs": []
    },
    {
      "cell_type": "markdown",
      "metadata": {
        "id": "rB-2D1hEyHzQ"
      },
      "source": [
        "## [git commit # 13] % git commit -a -m \"complete the function for the function result 07\""
      ]
    },
    {
      "cell_type": "markdown",
      "metadata": {
        "id": "Y4DevceTyHzQ"
      },
      "source": [
        "---"
      ]
    },
    {
      "cell_type": "markdown",
      "metadata": {
        "id": "-NG2pnSFyHzQ"
      },
      "source": [
        "# RESULTS"
      ]
    },
    {
      "cell_type": "markdown",
      "metadata": {
        "id": "N4Uy058myHzQ"
      },
      "source": [
        "---"
      ]
    },
    {
      "cell_type": "markdown",
      "metadata": {
        "id": "Xhav8hPYyHzR"
      },
      "source": [
        "## # 01. plot the input images (left: image 0, right: image 1)"
      ]
    },
    {
      "cell_type": "code",
      "metadata": {
        "id": "Ge50rtIHyHzR",
        "outputId": "aefaf9cc-87a2-49ec-a159-383446dfac42"
      },
      "source": [
        "function_result_01(...)"
      ],
      "execution_count": null,
      "outputs": [
        {
          "output_type": "display_data",
          "data": {
            "image/png": "[encoded data removed]",
            "text/plain": [
              "<Figure size 576x288 with 2 Axes>"
            ]
          },
          "metadata": {
            "needs_background": "light"
          }
        }
      ]
    },
    {
      "cell_type": "markdown",
      "metadata": {
        "id": "SykuLgp_yHzR"
      },
      "source": [
        "## # 02. plot the loss curve (x-axis: iteration, y-axis: loss)"
      ]
    },
    {
      "cell_type": "code",
      "metadata": {
        "id": "10u7S2YNyHzR",
        "outputId": "9331485e-b7eb-4e95-f333-cbaa423df090"
      },
      "source": [
        "function_result_02(...)"
      ],
      "execution_count": null,
      "outputs": [
        {
          "output_type": "display_data",
          "data": {
            "image/png": "[encoded data removed]",
            "text/plain": [
              "<Figure size 576x432 with 1 Axes>"
            ]
          },
          "metadata": {
            "needs_background": "light"
          }
        }
      ]
    },
    {
      "cell_type": "markdown",
      "metadata": {
        "id": "qcKQ_foqyHzR"
      },
      "source": [
        "## # 03. plot the prediction value for image 0 (x-axis: iteration, y-axis: prediction)"
      ]
    },
    {
      "cell_type": "code",
      "metadata": {
        "id": "ZMljnnfuyHzR",
        "outputId": "10b99eca-5623-45f5-8163-0c5b2fc74712"
      },
      "source": [
        "function_result_03(...)"
      ],
      "execution_count": null,
      "outputs": [
        {
          "output_type": "display_data",
          "data": {
            "image/png": "[encoded data removed]",
            "text/plain": [
              "<Figure size 576x432 with 1 Axes>"
            ]
          },
          "metadata": {
            "needs_background": "light"
          }
        }
      ]
    },
    {
      "cell_type": "markdown",
      "metadata": {
        "id": "aEaS7yh-yHzR"
      },
      "source": [
        "## # 04. plot the prediction value for image 1 (x-axis: iteration, y-axis: prediction)"
      ]
    },
    {
      "cell_type": "code",
      "metadata": {
        "id": "d9R6VfjFyHzR",
        "outputId": "26d45f33-517d-4e23-95f3-2269f0bba186"
      },
      "source": [
        "function_result_04(...)"
      ],
      "execution_count": null,
      "outputs": [
        {
          "output_type": "display_data",
          "data": {
            "image/png": "[encoded data removed]",
            "text/plain": [
              "<Figure size 576x432 with 1 Axes>"
            ]
          },
          "metadata": {
            "needs_background": "light"
          }
        }
      ]
    },
    {
      "cell_type": "markdown",
      "metadata": {
        "id": "WwTXSFONyHzR"
      },
      "source": [
        "## # 05. print the loss values at iterations 0, 100, 200, 300, 400, 500, 600, 700, 800, 900"
      ]
    },
    {
      "cell_type": "code",
      "metadata": {
        "id": "zimTt8D7yHzR",
        "outputId": "21751fa6-8da8-4c22-92c1-aa9ccb648ff3"
      },
      "source": [
        "function_result_05(...)"
      ],
      "execution_count": null,
      "outputs": [
        {
          "output_type": "stream",
          "name": "stdout",
          "text": [
            "iteration =    0, loss = 0.0000000000\n",
            "iteration =  100, loss = 0.0000000000\n",
            "iteration =  200, loss = 0.0000000000\n",
            "iteration =  300, loss = 0.0000000000\n",
            "iteration =  400, loss = 0.0000000000\n",
            "iteration =  500, loss = 0.0000000000\n",
            "iteration =  600, loss = 0.0000000000\n",
            "iteration =  700, loss = 0.0000000000\n",
            "iteration =  800, loss = 0.0000000000\n",
            "iteration =  900, loss = 0.0000000000\n"
          ]
        }
      ]
    },
    {
      "cell_type": "markdown",
      "metadata": {
        "id": "XPD17KauyHzR"
      },
      "source": [
        "## # 06. print the prediction values for image 0 at iterations 0, 100, 200, 300, 400, 500, 600, 700, 800, 900"
      ]
    },
    {
      "cell_type": "code",
      "metadata": {
        "id": "j0zr9cODyHzR",
        "outputId": "bf43f971-51e1-4de5-e266-eac1ebe8ff03"
      },
      "source": [
        "function_result_06(...)"
      ],
      "execution_count": null,
      "outputs": [
        {
          "output_type": "stream",
          "name": "stdout",
          "text": [
            "iteration =    0, pred im0 = 0.0000000000\n",
            "iteration =  100, pred im0 = 0.0000000000\n",
            "iteration =  200, pred im0 = 0.0000000000\n",
            "iteration =  300, pred im0 = 0.0000000000\n",
            "iteration =  400, pred im0 = 0.0000000000\n",
            "iteration =  500, pred im0 = 0.0000000000\n",
            "iteration =  600, pred im0 = 0.0000000000\n",
            "iteration =  700, pred im0 = 0.0000000000\n",
            "iteration =  800, pred im0 = 0.0000000000\n",
            "iteration =  900, pred im0 = 0.0000000000\n"
          ]
        }
      ]
    },
    {
      "cell_type": "markdown",
      "metadata": {
        "id": "-X85AgavyHzS"
      },
      "source": [
        "## # 07. print the prediction values for image 1 at iterations 0, 100, 200, 300, 400, 500, 600, 700, 800, 900"
      ]
    },
    {
      "cell_type": "code",
      "metadata": {
        "id": "R9D5NFi1yHzS",
        "outputId": "9d459c2b-3f07-4665-9c02-7c4fc4a45c1f"
      },
      "source": [
        "function_result_07(...)"
      ],
      "execution_count": null,
      "outputs": [
        {
          "output_type": "stream",
          "name": "stdout",
          "text": [
            "iteration =    0, pred im1 = 0.0000000000\n",
            "iteration =  100, pred im1 = 0.0000000000\n",
            "iteration =  200, pred im1 = 0.0000000000\n",
            "iteration =  300, pred im1 = 0.0000000000\n",
            "iteration =  400, pred im1 = 0.0000000000\n",
            "iteration =  500, pred im1 = 0.0000000000\n",
            "iteration =  600, pred im1 = 0.0000000000\n",
            "iteration =  700, pred im1 = 0.0000000000\n",
            "iteration =  800, pred im1 = 0.0000000000\n",
            "iteration =  900, pred im1 = 0.0000000000\n"
          ]
        }
      ]
    }
  ]
}