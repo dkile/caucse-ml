{
  "nbformat": 4,
  "nbformat_minor": 0,
  "metadata": {
    "colab": {
      "name": "assignment_02.ipynb",
      "provenance": [],
      "collapsed_sections": []
    },
    "interpreter": {
      "hash": "84bbda367bac7e7bffd9b7890a44d65326aaedad40e5a9021c2651157391b1ef"
    },
    "kernelspec": {
      "display_name": "Python 3.8.5 64-bit ('base': conda)",
      "name": "python3"
    },
    "language_info": {
      "codemirror_mode": {
        "name": "ipython",
        "version": 3
      },
      "file_extension": ".py",
      "mimetype": "text/x-python",
      "name": "python",
      "nbconvert_exporter": "python",
      "pygments_lexer": "ipython3",
      "version": "3.8.5"
    },
    "accelerator": "GPU"
  },
  "cells": [
    {
      "cell_type": "markdown",
      "metadata": {
        "id": "K29I-OwCEYzW",
        "outputId": "db8b297c-a4b8-457a-b43f-7570135306c7"
      },
      "source": [
        "# Multi-class classification based on Softmax and Cross-Entropy using pytorch"
      ]
    },
    {
      "cell_type": "markdown",
      "metadata": {
        "id": "k5IZFeTqqQtm"
      },
      "source": [
        "## import libraries"
      ]
    },
    {
      "cell_type": "code",
      "metadata": {
        "id": "7nw7SMyBqQtn"
      },
      "source": [
        "import torch\n",
        "import torch.nn as nn\n",
        "import torch.nn.functional as F\n",
        "import torchvision\n",
        "from torch.utils.data import Dataset\n",
        "from torchvision import datasets, transforms\n",
        "import torchvision.transforms.functional as F\n",
        "import numpy as np\n",
        "import matplotlib.pyplot as plt\n",
        "import math\n",
        "from tqdm import tqdm\n",
        "import random\n",
        "import os"
      ],
      "execution_count": 544,
      "outputs": []
    },
    {
      "cell_type": "markdown",
      "metadata": {
        "id": "Rl04cMTTqQto"
      },
      "source": [
        "## load data"
      ]
    },
    {
      "cell_type": "code",
      "metadata": {
        "colab": {
          "base_uri": "https://localhost:8080/"
        },
        "id": "6vZ5fMmcqQto",
        "outputId": "5be72d86-fa52-4c15-dff9-f2b27c1d198b"
      },
      "source": [
        "directory_data  = './data/'\n",
        "filename_data   = 'assignment_06_data.npz'\n",
        "data            = np.load(os.path.join(directory_data, filename_data))\n",
        "\n",
        "x_train = data['x_train']\n",
        "y_train = data['y_train']\n",
        "\n",
        "x_test  = data['x_test']\n",
        "y_test  = data['y_test']\n",
        "\n",
        "num_data_train  = x_train.shape[0]\n",
        "num_data_test   = x_test.shape[0]\n",
        "\n",
        "print('*************************************************')\n",
        "print('size of x_train :', x_train.shape)\n",
        "print('size of y_train :', y_train.shape)\n",
        "print('*************************************************')\n",
        "print('size of x_test :', x_test.shape)\n",
        "print('size of y_test :', y_test.shape)\n",
        "print('*************************************************')\n",
        "print('number of training image :', x_train.shape[0])\n",
        "print('height of training image :', x_train.shape[1])\n",
        "print('width of training image :', x_train.shape[2])\n",
        "print('*************************************************')\n",
        "print('number of testing image :', x_test.shape[0])\n",
        "print('height of testing image :', x_test.shape[1])\n",
        "print('width of testing image :', x_test.shape[2])\n",
        "print('*************************************************')"
      ],
      "execution_count": 545,
      "outputs": [
        {
          "output_type": "stream",
          "name": "stdout",
          "text": [
            "*************************************************\n",
            "size of x_train : (20000, 32, 32)\n",
            "size of y_train : (20000,)\n",
            "*************************************************\n",
            "size of x_test : (8000, 32, 32)\n",
            "size of y_test : (8000,)\n",
            "*************************************************\n",
            "number of training image : 20000\n",
            "height of training image : 32\n",
            "width of training image : 32\n",
            "*************************************************\n",
            "number of testing image : 8000\n",
            "height of testing image : 32\n",
            "width of testing image : 32\n",
            "*************************************************\n"
          ]
        }
      ]
    },
    {
      "cell_type": "markdown",
      "metadata": {
        "id": "Y73XnDFxqQtp"
      },
      "source": [
        "## number of classes"
      ]
    },
    {
      "cell_type": "code",
      "metadata": {
        "colab": {
          "base_uri": "https://localhost:8080/"
        },
        "id": "Mhvah8iAqQtp",
        "outputId": "6701dce7-21f8-4d61-a213-939b645737f2"
      },
      "source": [
        "print('*************************************************')\n",
        "print('number of classes :', len(set(y_train)))\n",
        "print('*************************************************')"
      ],
      "execution_count": 546,
      "outputs": [
        {
          "output_type": "stream",
          "name": "stdout",
          "text": [
            "*************************************************\n",
            "number of classes : 10\n",
            "*************************************************\n"
          ]
        }
      ]
    },
    {
      "cell_type": "markdown",
      "metadata": {
        "id": "LscKWuT3qQtq"
      },
      "source": [
        "## hyper-parameters"
      ]
    },
    {
      "cell_type": "code",
      "metadata": {
        "id": "c6_BOik8qQtq"
      },
      "source": [
        "device          = torch.device('cuda' if torch.cuda.is_available() else 'cpu')\n",
        "\n",
        "number_epoch    = 100\n",
        "size_minibatch  = 200\n",
        "learning_rate   = 0.01\n",
        "weight_decay    = 0.001"
      ],
      "execution_count": 547,
      "outputs": []
    },
    {
      "cell_type": "markdown",
      "metadata": {
        "id": "5w2acQEaqQtq"
      },
      "source": [
        "## custom data loader for the PyTorch framework"
      ]
    },
    {
      "cell_type": "code",
      "metadata": {
        "id": "SP6ZSaEUqQtr"
      },
      "source": [
        "class dataset(Dataset):\n",
        "    \n",
        "    def __init__(self, image, label):\n",
        "        \n",
        "        self.image  = image\n",
        "        self.label  = label.astype(np.long)\n",
        "    \n",
        "    def __getitem__(self, index):\n",
        "        \n",
        "        image   = self.image[index, :, :]\n",
        "        label   = self.label[index, ]\n",
        "\n",
        "        image   = torch.FloatTensor(image).unsqueeze(dim=0)\n",
        "        label   = torch.LongTensor([label])\n",
        "\n",
        "        return image, label\n",
        "    \n",
        "    def __len__(self):\n",
        "        \n",
        "        return self.image.shape[0]\n",
        "\n",
        "    def collate_fn(self, batch):\n",
        "        images  = list()\n",
        "        labels  = list()\n",
        "\n",
        "        for b in batch:\n",
        "            images.append(b[0])\n",
        "            labels.append(b[1])\n",
        "\n",
        "        images  = torch.stack(images, dim=0)\n",
        "        labels  = torch.stack(labels, dim=0).squeeze()\n",
        "\n",
        "        return images, labels\n",
        "        "
      ],
      "execution_count": 548,
      "outputs": []
    },
    {
      "cell_type": "markdown",
      "metadata": {
        "id": "okMQO2L3qQtr"
      },
      "source": [
        "## construct datasets and dataloaders for training and testing"
      ]
    },
    {
      "cell_type": "code",
      "metadata": {
        "id": "0y0DFaWdqQtr"
      },
      "source": [
        "dataset_train   = dataset(x_train, y_train)\n",
        "dataset_test    = dataset(x_test, y_test)\n",
        "\n",
        "dataloader_train    = torch.utils.data.DataLoader(dataset_train, batch_size=size_minibatch, shuffle=True, drop_last=True, collate_fn=dataset_train.collate_fn)\n",
        "dataloader_test     = torch.utils.data.DataLoader(dataset_test, batch_size=size_minibatch, shuffle=True, drop_last=True, collate_fn=dataset_test.collate_fn)"
      ],
      "execution_count": 549,
      "outputs": []
    },
    {
      "cell_type": "markdown",
      "metadata": {
        "id": "PFWSCf7bqQts"
      },
      "source": [
        "## shape of the data when using the data loader"
      ]
    },
    {
      "cell_type": "code",
      "metadata": {
        "colab": {
          "base_uri": "https://localhost:8080/"
        },
        "id": "iWxw65LKqQts",
        "outputId": "f6fcf971-91c3-47d6-f0ea-6cf717477a05"
      },
      "source": [
        "image, label    = next(iter(dataloader_train))\n",
        "print('************************************************************')\n",
        "print('size of mini-batch of the image:', image.shape)\n",
        "print('************************************************************')\n",
        "print('size of mini-batch of the label:', label.shape)\n",
        "print('************************************************************')"
      ],
      "execution_count": 550,
      "outputs": [
        {
          "output_type": "stream",
          "name": "stdout",
          "text": [
            "************************************************************\n",
            "size of mini-batch of the image: torch.Size([200, 1, 32, 32])\n",
            "************************************************************\n",
            "size of mini-batch of the label: torch.Size([200])\n",
            "************************************************************\n"
          ]
        }
      ]
    },
    {
      "cell_type": "markdown",
      "metadata": {
        "id": "fEo0SQxvqQts"
      },
      "source": [
        "## class for the neural network "
      ]
    },
    {
      "cell_type": "code",
      "metadata": {
        "id": "H-9SfavaqQts"
      },
      "source": [
        "class Classifier(nn.Module):\n",
        "    def __init__(self):\n",
        "        super(Classifier, self).__init__()\n",
        "\n",
        "        self.feature    = nn.Sequential(\n",
        "            nn.Conv2d(in_channels=1, out_channels=4, kernel_size=4, stride=1, padding=2, bias=True),\n",
        "            nn.MaxPool2d(kernel_size=2, stride=2),\n",
        "            nn.ReLU(),\n",
        "\n",
        "            nn.Conv2d(in_channels=4, out_channels=8, kernel_size=4, stride=1, padding=2, bias=True),\n",
        "            nn.MaxPool2d(kernel_size=2, stride=2),\n",
        "            nn.ReLU(),\n",
        "\n",
        "            # nn.Conv2d(in_channels=4, out_channels=8, kernel_size=3, stride=1, padding=1, bias=True),\n",
        "            # nn.MaxPool2d(kernel_size=2, stride=2),\n",
        "            # nn.ReLU(),\n",
        "        )\n",
        "\n",
        "        self.classifier = nn.Sequential(\n",
        "            nn.Linear(512, 10, bias=True)\n",
        "        )\n",
        "\n",
        "        self.network    = nn.Sequential(\n",
        "            self.feature,\n",
        "            nn.Flatten(),\n",
        "            self.classifier,\n",
        "        )\n",
        "\n",
        "        self.initialize()\n",
        "\n",
        "\n",
        "    def initialize(self):\n",
        "\n",
        "        for m in self.network.modules():\n",
        "\n",
        "            if isinstance(m, nn.Conv2d):\n",
        "\n",
        "                nn.init.constant_(m.weight, 0.01)\n",
        "                nn.init.constant_(m.bias, 1)\n",
        "\n",
        "            elif isinstance(m, nn.Linear):\n",
        "\n",
        "                nn.init.kaiming_normal_(m.weight)\n",
        "                nn.init.constant_(m.bias, 1)\n",
        "\n",
        "\n",
        "    def forward(self, input):\n",
        "\n",
        "        output = self.network(input)\n",
        "\n",
        "        return output\n",
        "\n",
        "    "
      ],
      "execution_count": 551,
      "outputs": []
    },
    {
      "cell_type": "markdown",
      "metadata": {
        "id": "3-y3xTRpqQts"
      },
      "source": [
        "## build network"
      ]
    },
    {
      "cell_type": "code",
      "metadata": {
        "id": "f3XPJBreqQtt"
      },
      "source": [
        "classifier  = Classifier().to(device)\n",
        "optimizer   = torch.optim.SGD(classifier.parameters(), lr=learning_rate, weight_decay=weight_decay)"
      ],
      "execution_count": 552,
      "outputs": []
    },
    {
      "cell_type": "markdown",
      "metadata": {
        "id": "DFqdgTcgqQtt"
      },
      "source": [
        "## print the defined neural network"
      ]
    },
    {
      "cell_type": "code",
      "metadata": {
        "colab": {
          "base_uri": "https://localhost:8080/"
        },
        "id": "5D6uXN_BqQtt",
        "outputId": "4d4480f3-e3b4-46d7-c54a-0504e1bce989"
      },
      "source": [
        "print(classifier)"
      ],
      "execution_count": 553,
      "outputs": [
        {
          "output_type": "stream",
          "name": "stdout",
          "text": [
            "Classifier(\n",
            "  (feature): Sequential(\n",
            "    (0): Conv2d(1, 4, kernel_size=(4, 4), stride=(1, 1), padding=(2, 2))\n",
            "    (1): MaxPool2d(kernel_size=2, stride=2, padding=0, dilation=1, ceil_mode=False)\n",
            "    (2): ReLU()\n",
            "    (3): Conv2d(4, 8, kernel_size=(4, 4), stride=(1, 1), padding=(2, 2))\n",
            "    (4): MaxPool2d(kernel_size=2, stride=2, padding=0, dilation=1, ceil_mode=False)\n",
            "    (5): ReLU()\n",
            "  )\n",
            "  (classifier): Sequential(\n",
            "    (0): Linear(in_features=512, out_features=10, bias=True)\n",
            "  )\n",
            "  (network): Sequential(\n",
            "    (0): Sequential(\n",
            "      (0): Conv2d(1, 4, kernel_size=(4, 4), stride=(1, 1), padding=(2, 2))\n",
            "      (1): MaxPool2d(kernel_size=2, stride=2, padding=0, dilation=1, ceil_mode=False)\n",
            "      (2): ReLU()\n",
            "      (3): Conv2d(4, 8, kernel_size=(4, 4), stride=(1, 1), padding=(2, 2))\n",
            "      (4): MaxPool2d(kernel_size=2, stride=2, padding=0, dilation=1, ceil_mode=False)\n",
            "      (5): ReLU()\n",
            "    )\n",
            "    (1): Flatten(start_dim=1, end_dim=-1)\n",
            "    (2): Sequential(\n",
            "      (0): Linear(in_features=512, out_features=10, bias=True)\n",
            "    )\n",
            "  )\n",
            ")\n"
          ]
        }
      ]
    },
    {
      "cell_type": "markdown",
      "metadata": {
        "id": "4xOW1-G0qQtt"
      },
      "source": [
        "## compute the prediction"
      ]
    },
    {
      "cell_type": "code",
      "metadata": {
        "id": "3w9YSGHDqQtt"
      },
      "source": [
        "def compute_prediction(model, input):\n",
        "\n",
        "    prediction = model(input)\n",
        "\n",
        "    return prediction"
      ],
      "execution_count": 554,
      "outputs": []
    },
    {
      "cell_type": "markdown",
      "metadata": {
        "id": "aeny5xr5qQtt"
      },
      "source": [
        "## compute the loss"
      ]
    },
    {
      "cell_type": "code",
      "metadata": {
        "id": "JB1A0xuDqQtt"
      },
      "source": [
        "def compute_loss(prediction, label):\n",
        "\n",
        "    criterion   = nn.CrossEntropyLoss()\n",
        "    loss        = criterion(prediction, label)\n",
        "    loss_value  = loss.item()\n",
        "\n",
        "    return loss, loss_value"
      ],
      "execution_count": 555,
      "outputs": []
    },
    {
      "cell_type": "markdown",
      "metadata": {
        "id": "X3jGrB8wqQtu"
      },
      "source": [
        "## compute the accuracy"
      ]
    },
    {
      "cell_type": "code",
      "metadata": {
        "id": "8XJo50-aqQtu"
      },
      "source": [
        "def compute_accuracy(prediction, label):\n",
        "    # ================================================================================ \n",
        "    # complete the function body \n",
        "    \n",
        "    \n",
        "    bCorrect = prediction.argmax(axis=1) == label\n",
        "    accuracy = (torch.sum(bCorrect) / len(label)).detach().cpu().numpy()\n",
        "    # ================================================================================ \n",
        "\n",
        "    return accuracy"
      ],
      "execution_count": 556,
      "outputs": []
    },
    {
      "cell_type": "markdown",
      "metadata": {
        "id": "p0JbSvLZqQtu"
      },
      "source": [
        "## variables for the learning curve"
      ]
    },
    {
      "cell_type": "code",
      "metadata": {
        "id": "FQpHgN6EqQtu"
      },
      "source": [
        "loss_mean_train     = np.zeros(number_epoch)\n",
        "loss_std_train      = np.zeros(number_epoch)\n",
        "accuracy_mean_train = np.zeros(number_epoch)\n",
        "accuracy_std_train  = np.zeros(number_epoch)\n",
        "\n",
        "loss_mean_test      = np.zeros(number_epoch)\n",
        "loss_std_test       = np.zeros(number_epoch)\n",
        "accuracy_mean_test  = np.zeros(number_epoch)\n",
        "accuracy_std_test   = np.zeros(number_epoch)"
      ],
      "execution_count": 557,
      "outputs": []
    },
    {
      "cell_type": "markdown",
      "metadata": {
        "id": "cuYPsbPFqQtu"
      },
      "source": [
        "## train and test"
      ]
    },
    {
      "cell_type": "code",
      "metadata": {
        "colab": {
          "base_uri": "https://localhost:8080/"
        },
        "id": "G33HH29KqQtu",
        "outputId": "b1d6b4a3-aec0-445f-b695-e2b68a450387"
      },
      "source": [
        "# ================================================================================\n",
        "# \n",
        "# iterations for epochs\n",
        "#\n",
        "# ================================================================================\n",
        "for i in tqdm(range(number_epoch)):\n",
        "    \n",
        "    # ================================================================================\n",
        "    # \n",
        "    # training\n",
        "    #\n",
        "    # ================================================================================\n",
        "    loss_train_epoch        = []\n",
        "    accuracy_train_epoch    = []\n",
        "\n",
        "    classifier.train()\n",
        "\n",
        "    for index_batch, (image_train, label_train) in enumerate(dataloader_train):\n",
        "\n",
        "        image_train = image_train.to(device)\n",
        "        label_train = label_train.to(device)\n",
        "        prediction_train                = compute_prediction(classifier, image_train)\n",
        "        loss_train, loss_value_train    = compute_loss(prediction_train, label_train)\n",
        "        accuracy_train                  = compute_accuracy(prediction_train, label_train)\n",
        "\n",
        "        optimizer.zero_grad()\n",
        "        loss_train.backward()\n",
        "        optimizer.step()\n",
        "\n",
        "        loss_train_epoch.append(loss_value_train)\n",
        "        accuracy_train_epoch.append(accuracy_train)\n",
        "\n",
        "    loss_mean_train[i]      = np.mean(loss_train_epoch)\n",
        "    loss_std_train[i]       = np.std(loss_train_epoch)\n",
        "\n",
        "    accuracy_mean_train[i]  = np.mean(accuracy_train_epoch)\n",
        "    accuracy_std_train[i]   = np.std(accuracy_train_epoch)\n",
        "\n",
        "    # ================================================================================\n",
        "    # \n",
        "    # testing\n",
        "    #\n",
        "    # ================================================================================\n",
        "    loss_test_epoch        = []\n",
        "    accuracy_test_epoch    = []\n",
        "\n",
        "    classifier.train()\n",
        "\n",
        "    for index_batch, (image_test, label_test) in enumerate(dataloader_test):\n",
        "\n",
        "        image_test = image_test.to(device)\n",
        "        label_test = label_test.to(device)\n",
        "        \n",
        "        prediction_test             = compute_prediction(classifier, image_test)\n",
        "        loss_test, loss_value_test  = compute_loss(prediction_test, label_test)\n",
        "        accuracy_test               = compute_accuracy(prediction_test, label_test)\n",
        "\n",
        "        loss_test_epoch.append(loss_value_test)\n",
        "        accuracy_test_epoch.append(accuracy_test)\n",
        "\n",
        "    loss_mean_test[i]      = np.mean(loss_test_epoch)\n",
        "    loss_std_test[i]       = np.std(loss_test_epoch)\n",
        "\n",
        "    accuracy_mean_test[i]  = np.mean(accuracy_test)\n",
        "    accuracy_std_test[i]   = np.std(accuracy_test)"
      ],
      "execution_count": 558,
      "outputs": [
        {
          "output_type": "stream",
          "name": "stderr",
          "text": [
            "100%|██████████| 100/100 [01:30<00:00,  1.11it/s]\n"
          ]
        }
      ]
    },
    {
      "cell_type": "markdown",
      "metadata": {
        "id": "uWh-QVEYqQtu"
      },
      "source": [
        "## plot curve"
      ]
    },
    {
      "cell_type": "code",
      "metadata": {
        "id": "tdgEA6yPqQtu"
      },
      "source": [
        "def plot_curve_error(data_mean, data_std, x_label, y_label, title):\n",
        "\n",
        "    plt.figure(figsize=(8, 6))\n",
        "    plt.title(title)\n",
        "\n",
        "    alpha = 0.3\n",
        "    \n",
        "    plt.plot(range(len(data_mean)), data_mean, '-', color = 'red')\n",
        "    plt.fill_between(range(len(data_mean)), data_mean - data_std, data_mean + data_std, facecolor = 'blue', alpha = alpha) \n",
        "    \n",
        "    plt.xlabel(x_label)\n",
        "    plt.ylabel(y_label)\n",
        "\n",
        "    plt.tight_layout()\n",
        "    plt.show()"
      ],
      "execution_count": 559,
      "outputs": []
    },
    {
      "cell_type": "code",
      "metadata": {
        "id": "EC1KzXm7qQtv"
      },
      "source": [
        "def print_curve(data, index):\n",
        "    \n",
        "    for i in range(len(index)):\n",
        "\n",
        "        idx = index[i]\n",
        "        val = data[idx]\n",
        "\n",
        "        print('index = %2d, value = %12.10f' % (idx, val))"
      ],
      "execution_count": 560,
      "outputs": []
    },
    {
      "cell_type": "code",
      "metadata": {
        "id": "8BhZkbjSqQtv"
      },
      "source": [
        "def get_data_last(data, index_start):\n",
        "\n",
        "    data_last = data[index_start:]\n",
        "\n",
        "    return data_last"
      ],
      "execution_count": 561,
      "outputs": []
    },
    {
      "cell_type": "code",
      "metadata": {
        "id": "N7VexIBOqQtv"
      },
      "source": [
        "def get_max_last_range(data, index_start):\n",
        "\n",
        "    data_range = get_data_last(data, index_start)\n",
        "    value = data_range.max()\n",
        "\n",
        "    return value"
      ],
      "execution_count": 562,
      "outputs": []
    },
    {
      "cell_type": "code",
      "metadata": {
        "id": "KeihZ-WtqQtv"
      },
      "source": [
        "def get_min_last_range(data, index_start):\n",
        "\n",
        "    data_range = get_data_last(data, index_start)\n",
        "    value = data_range.min()\n",
        "\n",
        "    return value"
      ],
      "execution_count": 563,
      "outputs": []
    },
    {
      "cell_type": "markdown",
      "metadata": {
        "id": "ptTx0DEZqQtv"
      },
      "source": [
        "---"
      ]
    },
    {
      "cell_type": "markdown",
      "metadata": {
        "id": "FG_maWh5qQtv"
      },
      "source": [
        "# functions for presenting the results"
      ]
    },
    {
      "cell_type": "markdown",
      "metadata": {
        "id": "UFtuWBvIqQtv"
      },
      "source": [
        "---"
      ]
    },
    {
      "cell_type": "code",
      "metadata": {
        "id": "NueqwChOqQtv"
      },
      "source": [
        "def function_result_01():\n",
        "\n",
        "    plot_curve_error(loss_mean_train, loss_std_train, 'epoch', 'loss', 'loss (training)')"
      ],
      "execution_count": 564,
      "outputs": []
    },
    {
      "cell_type": "code",
      "metadata": {
        "id": "F2KiJzVOqQtv"
      },
      "source": [
        "def function_result_02():\n",
        "\n",
        "    plot_curve_error(accuracy_mean_train, accuracy_std_train, 'epoch', 'accuracy', 'accuracy (training)')"
      ],
      "execution_count": 565,
      "outputs": []
    },
    {
      "cell_type": "code",
      "metadata": {
        "id": "mrkxHeZqqQtv"
      },
      "source": [
        "def function_result_03():\n",
        "    \n",
        "    plot_curve_error(loss_mean_test, loss_std_test, 'epoch', 'loss', 'loss (testing)')"
      ],
      "execution_count": 566,
      "outputs": []
    },
    {
      "cell_type": "code",
      "metadata": {
        "id": "GZr1z310qQtw"
      },
      "source": [
        "def function_result_04():\n",
        "    \n",
        "    plot_curve_error(accuracy_mean_test, accuracy_std_test, 'epoch', 'accuracy', 'accuracy (testing)')"
      ],
      "execution_count": 567,
      "outputs": []
    },
    {
      "cell_type": "code",
      "metadata": {
        "id": "rOXL7zlfqQtw"
      },
      "source": [
        "def function_result_05():\n",
        "    \n",
        "    data_last = get_data_last(loss_mean_train, -10)\n",
        "    index = np.arange(0, 10)\n",
        "    print_curve(data_last, index)"
      ],
      "execution_count": 568,
      "outputs": []
    },
    {
      "cell_type": "code",
      "metadata": {
        "id": "bP6y8Oj6qQtw"
      },
      "source": [
        "def function_result_06():\n",
        "    \n",
        "    data_last = get_data_last(accuracy_mean_train, -10)\n",
        "    index = np.arange(0, 10)\n",
        "    print_curve(data_last, index)"
      ],
      "execution_count": 569,
      "outputs": []
    },
    {
      "cell_type": "code",
      "metadata": {
        "id": "twondguXqQtw"
      },
      "source": [
        "def function_result_07():\n",
        "    \n",
        "    data_last = get_data_last(loss_mean_test, -10)\n",
        "    index = np.arange(0, 10)\n",
        "    print_curve(data_last, index)"
      ],
      "execution_count": 570,
      "outputs": []
    },
    {
      "cell_type": "code",
      "metadata": {
        "id": "7bn7EadhqQtw"
      },
      "source": [
        "def function_result_08():\n",
        "    \n",
        "    data_last = get_data_last(accuracy_mean_test, -10)\n",
        "    index = np.arange(0, 10)\n",
        "    print_curve(data_last, index)"
      ],
      "execution_count": 571,
      "outputs": []
    },
    {
      "cell_type": "code",
      "metadata": {
        "id": "dUzSWd_HqQtw"
      },
      "source": [
        "def function_result_09():\n",
        "    \n",
        "    value = get_max_last_range(accuracy_mean_train, -10)\n",
        "    print('best training accuracy = %12.10f' % (value))"
      ],
      "execution_count": 572,
      "outputs": []
    },
    {
      "cell_type": "code",
      "metadata": {
        "id": "OZdKkd5vqQtw"
      },
      "source": [
        "def function_result_10():\n",
        "    \n",
        "    value = get_max_last_range(accuracy_mean_test, -10)\n",
        "    print('best testing accuracy = %12.10f' % (value))"
      ],
      "execution_count": 573,
      "outputs": []
    },
    {
      "cell_type": "markdown",
      "metadata": {
        "id": "9nqUsokSqQtw"
      },
      "source": [
        "---"
      ]
    },
    {
      "cell_type": "markdown",
      "metadata": {
        "id": "otABQhUAqQtw"
      },
      "source": [
        "# RESULTS"
      ]
    },
    {
      "cell_type": "markdown",
      "metadata": {
        "id": "VTA2ef2oqQtw"
      },
      "source": [
        "---"
      ]
    },
    {
      "cell_type": "markdown",
      "metadata": {
        "id": "vhR4DuZmqQtx"
      },
      "source": [
        "## # 01. plot the training loss curve (mean, std)"
      ]
    },
    {
      "cell_type": "code",
      "metadata": {
        "colab": {
          "base_uri": "https://localhost:8080/",
          "height": 441
        },
        "id": "VacLEkRYqQtx",
        "outputId": "0b357804-97f8-4830-dd07-356a1ead769f"
      },
      "source": [
        "function_result_01()"
      ],
      "execution_count": 574,
      "outputs": [
        {
          "output_type": "display_data",
          "data": {
            "image/png": "[encoded data removed]",
            "text/plain": [
              "<Figure size 576x432 with 1 Axes>"
            ]
          },
          "metadata": {
            "needs_background": "light"
          }
        }
      ]
    },
    {
      "cell_type": "markdown",
      "metadata": {
        "id": "KI2l4rreqQtx"
      },
      "source": [
        "## # 02. plot the training accuracy curve (mean, std)"
      ]
    },
    {
      "cell_type": "code",
      "metadata": {
        "colab": {
          "base_uri": "https://localhost:8080/",
          "height": 441
        },
        "id": "EaqqubPkqQty",
        "outputId": "94c15885-e752-40a7-af1a-308f2909c327"
      },
      "source": [
        "function_result_02()"
      ],
      "execution_count": 575,
      "outputs": [
        {
          "output_type": "display_data",
          "data": {
            "image/png": "[encoded data removed]",
            "text/plain": [
              "<Figure size 576x432 with 1 Axes>"
            ]
          },
          "metadata": {
            "needs_background": "light"
          }
        }
      ]
    },
    {
      "cell_type": "markdown",
      "metadata": {
        "id": "FJZGe9y8qQty"
      },
      "source": [
        "## # 03. plot the testing loss curve (mean, std)"
      ]
    },
    {
      "cell_type": "code",
      "metadata": {
        "colab": {
          "base_uri": "https://localhost:8080/",
          "height": 441
        },
        "id": "ixfWT2FnqQty",
        "outputId": "5465c1bc-5a81-478c-dde2-84ae1066de87"
      },
      "source": [
        "function_result_03()"
      ],
      "execution_count": 576,
      "outputs": [
        {
          "output_type": "display_data",
          "data": {
            "image/png": "[encoded data removed]",
            "text/plain": [
              "<Figure size 576x432 with 1 Axes>"
            ]
          },
          "metadata": {
            "needs_background": "light"
          }
        }
      ]
    },
    {
      "cell_type": "markdown",
      "metadata": {
        "id": "fPa6_nDeqQty"
      },
      "source": [
        "## # 04. plot the testing accuracy curve (mean, std)"
      ]
    },
    {
      "cell_type": "code",
      "metadata": {
        "colab": {
          "base_uri": "https://localhost:8080/",
          "height": 441
        },
        "id": "LpVJhd1hqQty",
        "outputId": "159e46b3-9e68-44d6-dcb9-5cde43f644b6"
      },
      "source": [
        "function_result_04()"
      ],
      "execution_count": 577,
      "outputs": [
        {
          "output_type": "display_data",
          "data": {
            "image/png": "[encoded data removed]",
            "text/plain": [
              "<Figure size 576x432 with 1 Axes>"
            ]
          },
          "metadata": {
            "needs_background": "light"
          }
        }
      ]
    },
    {
      "cell_type": "markdown",
      "metadata": {
        "id": "JxxYKR-YqQty"
      },
      "source": [
        "## # 05. print the training (mean) loss over batches at last 10 epochs"
      ]
    },
    {
      "cell_type": "code",
      "metadata": {
        "colab": {
          "base_uri": "https://localhost:8080/"
        },
        "id": "0SxaWYmcqQty",
        "outputId": "5730a17a-37ba-453f-9108-2ac4c7cd830a"
      },
      "source": [
        "function_result_05()"
      ],
      "execution_count": 578,
      "outputs": [
        {
          "output_type": "stream",
          "name": "stdout",
          "text": [
            "index =  0, value = 0.0666625501\n",
            "index =  1, value = 0.0660897259\n",
            "index =  2, value = 0.0656800749\n",
            "index =  3, value = 0.0648114446\n",
            "index =  4, value = 0.0652372873\n",
            "index =  5, value = 0.0647533119\n",
            "index =  6, value = 0.0637092132\n",
            "index =  7, value = 0.0632780952\n",
            "index =  8, value = 0.0633440793\n",
            "index =  9, value = 0.0626789004\n"
          ]
        }
      ]
    },
    {
      "cell_type": "markdown",
      "metadata": {
        "id": "-J7rNYbsqQty"
      },
      "source": [
        "## # 06. print the training (mean) accuracy over batches at last 10 epochs"
      ]
    },
    {
      "cell_type": "code",
      "metadata": {
        "colab": {
          "base_uri": "https://localhost:8080/"
        },
        "id": "uUG7Yv7iqQtz",
        "outputId": "9042af6b-c762-4754-d250-8619d512bb09"
      },
      "source": [
        "function_result_06()"
      ],
      "execution_count": 579,
      "outputs": [
        {
          "output_type": "stream",
          "name": "stdout",
          "text": [
            "index =  0, value = 0.9807000160\n",
            "index =  1, value = 0.9811999798\n",
            "index =  2, value = 0.9808999896\n",
            "index =  3, value = 0.9817499518\n",
            "index =  4, value = 0.9807500243\n",
            "index =  5, value = 0.9808999896\n",
            "index =  6, value = 0.9815998673\n",
            "index =  7, value = 0.9823499918\n",
            "index =  8, value = 0.9821500182\n",
            "index =  9, value = 0.9820000529\n"
          ]
        }
      ]
    },
    {
      "cell_type": "markdown",
      "metadata": {
        "id": "vEPLCfyFqQtz"
      },
      "source": [
        "## # 07. print the testing (mean) loss over batches at last 10 epochs"
      ]
    },
    {
      "cell_type": "code",
      "metadata": {
        "colab": {
          "base_uri": "https://localhost:8080/"
        },
        "id": "5mmFL-zzqQtz",
        "outputId": "bd45d538-9570-492f-a79f-805a85173419"
      },
      "source": [
        "function_result_07()"
      ],
      "execution_count": 580,
      "outputs": [
        {
          "output_type": "stream",
          "name": "stdout",
          "text": [
            "index =  0, value = 0.0810662014\n",
            "index =  1, value = 0.0813605377\n",
            "index =  2, value = 0.0803313713\n",
            "index =  3, value = 0.0821809893\n",
            "index =  4, value = 0.0806459100\n",
            "index =  5, value = 0.0780315405\n",
            "index =  6, value = 0.0809745676\n",
            "index =  7, value = 0.0796477230\n",
            "index =  8, value = 0.0792532121\n",
            "index =  9, value = 0.0838952230\n"
          ]
        }
      ]
    },
    {
      "cell_type": "markdown",
      "metadata": {
        "id": "PZB_J3SXqQtz"
      },
      "source": [
        "## # 08. print the testing (mean) accuracy over batches at last 10 epochs"
      ]
    },
    {
      "cell_type": "code",
      "metadata": {
        "colab": {
          "base_uri": "https://localhost:8080/"
        },
        "id": "iCWZSWs-qQtz",
        "outputId": "993f5b12-ff47-450a-e0fa-5e75c4b24f99"
      },
      "source": [
        "function_result_08()"
      ],
      "execution_count": 581,
      "outputs": [
        {
          "output_type": "stream",
          "name": "stdout",
          "text": [
            "index =  0, value = 0.9749999642\n",
            "index =  1, value = 0.9699999690\n",
            "index =  2, value = 0.9699999690\n",
            "index =  3, value = 0.9849999547\n",
            "index =  4, value = 0.9749999642\n",
            "index =  5, value = 0.9799999595\n",
            "index =  6, value = 0.9599999785\n",
            "index =  7, value = 0.9849999547\n",
            "index =  8, value = 0.9799999595\n",
            "index =  9, value = 0.9899999499\n"
          ]
        }
      ]
    },
    {
      "cell_type": "markdown",
      "metadata": {
        "id": "t0XDLQd9qQtz"
      },
      "source": [
        "## # 09. print the best training (mean) accuracy within the last 10 epochs"
      ]
    },
    {
      "cell_type": "code",
      "metadata": {
        "colab": {
          "base_uri": "https://localhost:8080/"
        },
        "id": "zmpmonaiqQtz",
        "outputId": "4dd1d03b-43ed-4de1-9bf9-9acd028dc9aa"
      },
      "source": [
        "function_result_09()"
      ],
      "execution_count": 582,
      "outputs": [
        {
          "output_type": "stream",
          "name": "stdout",
          "text": [
            "best training accuracy = 0.9823499918\n"
          ]
        }
      ]
    },
    {
      "cell_type": "markdown",
      "metadata": {
        "id": "gOCDflg6qQtz"
      },
      "source": [
        "## # 10. print the best testing (mean) accuracy within the last 10 epochs"
      ]
    },
    {
      "cell_type": "code",
      "metadata": {
        "colab": {
          "base_uri": "https://localhost:8080/"
        },
        "id": "JVGbG_M_qQtz",
        "outputId": "0bae61a9-997a-46a1-cc68-11b6055eb279"
      },
      "source": [
        "function_result_10()"
      ],
      "execution_count": 583,
      "outputs": [
        {
          "output_type": "stream",
          "name": "stdout",
          "text": [
            "best testing accuracy = 0.9899999499\n"
          ]
        }
      ]
    }
  ]
}